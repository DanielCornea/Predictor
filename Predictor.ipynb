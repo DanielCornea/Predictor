{
 "cells": [
  {
   "cell_type": "markdown",
   "id": "5e6cec11",
   "metadata": {},
   "source": [
    "# Predictor \n",
    "for inpiration on the requirements I looked [here](https://docs.google.com/document/d/1ycGeb1QYKATG6jvz74SAMqxrlek9Ed4RYrzWNhWS-0Q/pub)"
   ]
  },
  {
   "cell_type": "code",
   "execution_count": 1,
   "id": "d9d7a360",
   "metadata": {},
   "outputs": [],
   "source": [
    "import yfinance as yf \n",
    "import pandas as pd \n",
    "import numpy as np \n",
    "import warnings\n",
    "from tensorflow import keras\n",
    "import matplotlib.pyplot as plt \n",
    "from sklearn.preprocessing import MinMaxScaler\n",
    "from keras.models import Sequential\n",
    "from keras.layers import LSTM, Dense\n",
    "from sklearn.metrics import mean_squared_error\n",
    "from IPython.display import clear_output"
   ]
  },
  {
   "cell_type": "markdown",
   "id": "e06b20c5",
   "metadata": {},
   "source": [
    "## Table of Contents\n",
    "<a href = \"https://review.udacity.com/#!/rubrics/2345/view\" > Project Rubric</a>\n",
    "### [Project Definition](#proj_def)\n",
    "[Project Overview](#proj_over) <br />\n",
    "[Problem Statement](#problem_statement) <br />\n",
    "[Metrics](#metrics) <br />\n",
    "\n",
    "### [Analysis](#analysis)\n",
    "\n",
    "[Data Exploration](#anal_exp) <br />\n",
    "[Data Visualization](#anal_vis) <br />\n",
    "\n",
    "### [Methodology](#methodology)\n",
    "\n",
    "[Data Preprocessing](#met_prep) <br />\n",
    "[Implementation](#met_imp) <br />\n",
    "[Refinement](#met_ref) <br />\n",
    "\n",
    "\n",
    "### [Results](#results)\n",
    "[Model Evaluation and Validation](#res_eval) <br />\n",
    "[Justification](#res_just) <br />\n",
    "\n",
    "\n",
    "### [Conclusion](#conclusion)\n",
    "Reflection <br /> \n",
    "Improvement <br />"
   ]
  },
  {
   "cell_type": "markdown",
   "id": "4ff3e778",
   "metadata": {},
   "source": [
    "<id class = \"proj_def\">"
   ]
  },
  {
   "cell_type": "markdown",
   "id": "bd8cf32d",
   "metadata": {},
   "source": [
    "### Project Definition \n",
    "The project that I chose is the one described <a href = \"\" >here </a>. However, instead of an application I am delivering a technical blogpost which can be found <a href = \"\" >here </a>."
   ]
  },
  {
   "cell_type": "markdown",
   "id": "e6de4983",
   "metadata": {},
   "source": [
    "#### <a id = \"proj_over\">Project Overview</a> \n",
    "As a general view in this project I am attempting to build a simple stock predictor based on the power of neural networks. In this particular area I am defining the problem statement and the metrics used.\n",
    "As a flow, I will be attempting to build the predictor line by line, in the refinement chapter, however, I will gather together the code used in functions.  \n",
    "\n",
    "<p>\n",
    "    The Analysis chapter is used to explore and visualize the data series\n",
    "</p>\n",
    "<p>\n",
    "    The Methodology chapter is the core of the project, it is the place where I preprocess, implement and refine the model used for the stock predictor. As said earlier this where the whole code will be gathered together in order to use the refinement of the parameters\n",
    "</p>\n",
    "\n",
    "<p>\n",
    "    In the results chapter I am analysing the results obtained\n",
    "</p>\n",
    "\n",
    "<p>\n",
    "    The Conclusion chapter is where I draw the conclusions and reflect on ways to improve. \n",
    "</p>"
   ]
  },
  {
   "cell_type": "markdown",
   "id": "5ad3460a",
   "metadata": {},
   "source": [
    "#### <a id = \"problem_statement\">Problem Statement</a> \n",
    "\n",
    "The problem that I am attempting to solve is given by the hardship in reliably predicting the stock movements with an acceptable accuracy. In order to solve this, I am building a stock predictor model. I try to solve this by creating a model that looks at the n past closing prices and attempts to predict the next"
   ]
  },
  {
   "cell_type": "markdown",
   "id": "b16b4eab",
   "metadata": {},
   "source": [
    "#### <a id = \"metrics\">Metrics</a> \n",
    "The sole metric used is the accuracy by which the predictor can predict, based on past data, future unseen before stock quotes expressed in the mean differences between actual and predicted stock prices divided by the last stock price"
   ]
  },
  {
   "cell_type": "markdown",
   "id": "eaf9a031",
   "metadata": {},
   "source": [
    "### <a id = \"analysis\">Analysis</a> \n",
    "\n",
    "In this section I am analysing  and exploring the initial data that is being imported with the help of yfinance package"
   ]
  },
  {
   "cell_type": "markdown",
   "id": "b990b2f6",
   "metadata": {},
   "source": [
    "#### <a id = \"anal_exp\">Data Exploration </a> \n",
    "In this step I am importing the data and look for it's characteristics, for this we will import the data relating to Microsoft (MSFT) end of today values (\"Closed\")"
   ]
  },
  {
   "cell_type": "code",
   "execution_count": 2,
   "id": "b2916efe",
   "metadata": {},
   "outputs": [],
   "source": [
    "#assigning the ticker to variable\n",
    "msft = yf.Ticker(\"MSFT\")\n",
    "# importing data \n",
    "hist = msft.history(period=\"5y\")"
   ]
  },
  {
   "cell_type": "code",
   "execution_count": 3,
   "id": "139e86f8",
   "metadata": {},
   "outputs": [
    {
     "data": {
      "text/html": [
       "<div>\n",
       "<style scoped>\n",
       "    .dataframe tbody tr th:only-of-type {\n",
       "        vertical-align: middle;\n",
       "    }\n",
       "\n",
       "    .dataframe tbody tr th {\n",
       "        vertical-align: top;\n",
       "    }\n",
       "\n",
       "    .dataframe thead th {\n",
       "        text-align: right;\n",
       "    }\n",
       "</style>\n",
       "<table border=\"1\" class=\"dataframe\">\n",
       "  <thead>\n",
       "    <tr style=\"text-align: right;\">\n",
       "      <th></th>\n",
       "      <th>Open</th>\n",
       "      <th>High</th>\n",
       "      <th>Low</th>\n",
       "      <th>Close</th>\n",
       "      <th>Volume</th>\n",
       "      <th>Dividends</th>\n",
       "      <th>Stock Splits</th>\n",
       "    </tr>\n",
       "    <tr>\n",
       "      <th>Date</th>\n",
       "      <th></th>\n",
       "      <th></th>\n",
       "      <th></th>\n",
       "      <th></th>\n",
       "      <th></th>\n",
       "      <th></th>\n",
       "      <th></th>\n",
       "    </tr>\n",
       "  </thead>\n",
       "  <tbody>\n",
       "    <tr>\n",
       "      <th>2017-04-26</th>\n",
       "      <td>63.551654</td>\n",
       "      <td>63.766352</td>\n",
       "      <td>63.122252</td>\n",
       "      <td>63.318283</td>\n",
       "      <td>26190800</td>\n",
       "      <td>0.0</td>\n",
       "      <td>0</td>\n",
       "    </tr>\n",
       "    <tr>\n",
       "      <th>2017-04-27</th>\n",
       "      <td>63.616990</td>\n",
       "      <td>63.831688</td>\n",
       "      <td>63.084904</td>\n",
       "      <td>63.729004</td>\n",
       "      <td>34971000</td>\n",
       "      <td>0.0</td>\n",
       "      <td>0</td>\n",
       "    </tr>\n",
       "    <tr>\n",
       "      <th>2017-04-28</th>\n",
       "      <td>64.326441</td>\n",
       "      <td>64.541138</td>\n",
       "      <td>63.187588</td>\n",
       "      <td>63.906368</td>\n",
       "      <td>39548800</td>\n",
       "      <td>0.0</td>\n",
       "      <td>0</td>\n",
       "    </tr>\n",
       "    <tr>\n",
       "      <th>2017-05-01</th>\n",
       "      <td>64.111728</td>\n",
       "      <td>64.923862</td>\n",
       "      <td>63.943700</td>\n",
       "      <td>64.793175</td>\n",
       "      <td>31954400</td>\n",
       "      <td>0.0</td>\n",
       "      <td>0</td>\n",
       "    </tr>\n",
       "    <tr>\n",
       "      <th>2017-05-02</th>\n",
       "      <td>65.073208</td>\n",
       "      <td>65.073208</td>\n",
       "      <td>64.531785</td>\n",
       "      <td>64.690483</td>\n",
       "      <td>23906100</td>\n",
       "      <td>0.0</td>\n",
       "      <td>0</td>\n",
       "    </tr>\n",
       "  </tbody>\n",
       "</table>\n",
       "</div>"
      ],
      "text/plain": [
       "                 Open       High        Low      Close    Volume  Dividends  \\\n",
       "Date                                                                          \n",
       "2017-04-26  63.551654  63.766352  63.122252  63.318283  26190800        0.0   \n",
       "2017-04-27  63.616990  63.831688  63.084904  63.729004  34971000        0.0   \n",
       "2017-04-28  64.326441  64.541138  63.187588  63.906368  39548800        0.0   \n",
       "2017-05-01  64.111728  64.923862  63.943700  64.793175  31954400        0.0   \n",
       "2017-05-02  65.073208  65.073208  64.531785  64.690483  23906100        0.0   \n",
       "\n",
       "            Stock Splits  \n",
       "Date                      \n",
       "2017-04-26             0  \n",
       "2017-04-27             0  \n",
       "2017-04-28             0  \n",
       "2017-05-01             0  \n",
       "2017-05-02             0  "
      ]
     },
     "execution_count": 3,
     "metadata": {},
     "output_type": "execute_result"
    }
   ],
   "source": [
    "# looking at the first 5 rows \n",
    "hist.head()"
   ]
  },
  {
   "cell_type": "code",
   "execution_count": 4,
   "id": "55c34ca6",
   "metadata": {},
   "outputs": [
    {
     "data": {
      "text/html": [
       "<div>\n",
       "<style scoped>\n",
       "    .dataframe tbody tr th:only-of-type {\n",
       "        vertical-align: middle;\n",
       "    }\n",
       "\n",
       "    .dataframe tbody tr th {\n",
       "        vertical-align: top;\n",
       "    }\n",
       "\n",
       "    .dataframe thead th {\n",
       "        text-align: right;\n",
       "    }\n",
       "</style>\n",
       "<table border=\"1\" class=\"dataframe\">\n",
       "  <thead>\n",
       "    <tr style=\"text-align: right;\">\n",
       "      <th></th>\n",
       "      <th>Open</th>\n",
       "      <th>High</th>\n",
       "      <th>Low</th>\n",
       "      <th>Close</th>\n",
       "      <th>Volume</th>\n",
       "      <th>Dividends</th>\n",
       "      <th>Stock Splits</th>\n",
       "    </tr>\n",
       "    <tr>\n",
       "      <th>Date</th>\n",
       "      <th></th>\n",
       "      <th></th>\n",
       "      <th></th>\n",
       "      <th></th>\n",
       "      <th></th>\n",
       "      <th></th>\n",
       "      <th></th>\n",
       "    </tr>\n",
       "  </thead>\n",
       "  <tbody>\n",
       "  </tbody>\n",
       "</table>\n",
       "</div>"
      ],
      "text/plain": [
       "Empty DataFrame\n",
       "Columns: [Open, High, Low, Close, Volume, Dividends, Stock Splits]\n",
       "Index: []"
      ]
     },
     "execution_count": 4,
     "metadata": {},
     "output_type": "execute_result"
    }
   ],
   "source": [
    "# making sure there are no Nan values \n",
    "hist[hist.isna().any(axis=1)]"
   ]
  },
  {
   "cell_type": "code",
   "execution_count": 5,
   "id": "fbc2a3f7",
   "metadata": {},
   "outputs": [],
   "source": [
    "# selecting the \"Close\"\n",
    "msft_close = hist[['Close']]"
   ]
  },
  {
   "cell_type": "code",
   "execution_count": 6,
   "id": "dbbeb21f",
   "metadata": {},
   "outputs": [
    {
     "data": {
      "text/html": [
       "<div>\n",
       "<style scoped>\n",
       "    .dataframe tbody tr th:only-of-type {\n",
       "        vertical-align: middle;\n",
       "    }\n",
       "\n",
       "    .dataframe tbody tr th {\n",
       "        vertical-align: top;\n",
       "    }\n",
       "\n",
       "    .dataframe thead th {\n",
       "        text-align: right;\n",
       "    }\n",
       "</style>\n",
       "<table border=\"1\" class=\"dataframe\">\n",
       "  <thead>\n",
       "    <tr style=\"text-align: right;\">\n",
       "      <th></th>\n",
       "      <th>Close</th>\n",
       "    </tr>\n",
       "    <tr>\n",
       "      <th>Date</th>\n",
       "      <th></th>\n",
       "    </tr>\n",
       "  </thead>\n",
       "  <tbody>\n",
       "    <tr>\n",
       "      <th>2017-04-26</th>\n",
       "      <td>63.318283</td>\n",
       "    </tr>\n",
       "    <tr>\n",
       "      <th>2017-04-27</th>\n",
       "      <td>63.729004</td>\n",
       "    </tr>\n",
       "    <tr>\n",
       "      <th>2017-04-28</th>\n",
       "      <td>63.906368</td>\n",
       "    </tr>\n",
       "    <tr>\n",
       "      <th>2017-05-01</th>\n",
       "      <td>64.793175</td>\n",
       "    </tr>\n",
       "    <tr>\n",
       "      <th>2017-05-02</th>\n",
       "      <td>64.690483</td>\n",
       "    </tr>\n",
       "  </tbody>\n",
       "</table>\n",
       "</div>"
      ],
      "text/plain": [
       "                Close\n",
       "Date                 \n",
       "2017-04-26  63.318283\n",
       "2017-04-27  63.729004\n",
       "2017-04-28  63.906368\n",
       "2017-05-01  64.793175\n",
       "2017-05-02  64.690483"
      ]
     },
     "execution_count": 6,
     "metadata": {},
     "output_type": "execute_result"
    }
   ],
   "source": [
    "# looking at the first 5 rows\n",
    "msft_close.head()"
   ]
  },
  {
   "cell_type": "code",
   "execution_count": 7,
   "id": "5e9785a9",
   "metadata": {},
   "outputs": [
    {
     "data": {
      "text/html": [
       "<div>\n",
       "<style scoped>\n",
       "    .dataframe tbody tr th:only-of-type {\n",
       "        vertical-align: middle;\n",
       "    }\n",
       "\n",
       "    .dataframe tbody tr th {\n",
       "        vertical-align: top;\n",
       "    }\n",
       "\n",
       "    .dataframe thead th {\n",
       "        text-align: right;\n",
       "    }\n",
       "</style>\n",
       "<table border=\"1\" class=\"dataframe\">\n",
       "  <thead>\n",
       "    <tr style=\"text-align: right;\">\n",
       "      <th></th>\n",
       "      <th>Close</th>\n",
       "    </tr>\n",
       "  </thead>\n",
       "  <tbody>\n",
       "    <tr>\n",
       "      <th>count</th>\n",
       "      <td>1260.000000</td>\n",
       "    </tr>\n",
       "    <tr>\n",
       "      <th>mean</th>\n",
       "      <td>166.136742</td>\n",
       "    </tr>\n",
       "    <tr>\n",
       "      <th>std</th>\n",
       "      <td>80.780173</td>\n",
       "    </tr>\n",
       "    <tr>\n",
       "      <th>min</th>\n",
       "      <td>63.318283</td>\n",
       "    </tr>\n",
       "    <tr>\n",
       "      <th>25%</th>\n",
       "      <td>98.272963</td>\n",
       "    </tr>\n",
       "    <tr>\n",
       "      <th>50%</th>\n",
       "      <td>137.106766</td>\n",
       "    </tr>\n",
       "    <tr>\n",
       "      <th>75%</th>\n",
       "      <td>226.245354</td>\n",
       "    </tr>\n",
       "    <tr>\n",
       "      <th>max</th>\n",
       "      <td>342.402008</td>\n",
       "    </tr>\n",
       "  </tbody>\n",
       "</table>\n",
       "</div>"
      ],
      "text/plain": [
       "             Close\n",
       "count  1260.000000\n",
       "mean    166.136742\n",
       "std      80.780173\n",
       "min      63.318283\n",
       "25%      98.272963\n",
       "50%     137.106766\n",
       "75%     226.245354\n",
       "max     342.402008"
      ]
     },
     "execution_count": 7,
     "metadata": {},
     "output_type": "execute_result"
    }
   ],
   "source": [
    "# the description of the \n",
    "msft_close.describe()"
   ]
  },
  {
   "cell_type": "markdown",
   "id": "88285e17",
   "metadata": {},
   "source": [
    "#### <a id = \"anal_viz\">Data Visualization </a> \n",
    "Self explanatory, there is not much data to see, it is a times series that represents the meteoric rise in Microsoft"
   ]
  },
  {
   "cell_type": "code",
   "execution_count": 8,
   "id": "5c93e02a",
   "metadata": {},
   "outputs": [
    {
     "data": {
      "image/png": "[encoded data removed]",
      "text/plain": [
       "<Figure size 432x288 with 1 Axes>"
      ]
     },
     "metadata": {
      "needs_background": "light"
     },
     "output_type": "display_data"
    }
   ],
   "source": [
    "# displaying the timeseries\n",
    "plt.plot(msft_close); "
   ]
  },
  {
   "cell_type": "markdown",
   "id": "27274ca5",
   "metadata": {},
   "source": [
    "### <a id = \"methodology\">Methodology</a> \n",
    "In this part I preprocess the data by adding the percentage change column and the log transformtation. This would be the actual input data. Afterwards I train the LSTM model, followed by a gathering together of all the code in functions that help in the refinement of the parameters"
   ]
  },
  {
   "cell_type": "markdown",
   "id": "ca4359c8",
   "metadata": {},
   "source": [
    "#### <a id = \"met_prep\">Data Preprocessing </a> \n",
    "In this part we are adding the log change column, which is based on the percentage change. Afterwards we proceed in creating the arrays used for the Long Short Term Memory (LSTM) fitting. As a starting point we are using an array which  is composed of block of 3 entries. Each of these entries coresponds to the change in the last 3 days. The other array will contain only the target value in the 3 + 1 days. \n",
    "\n",
    "Long story short, we will use the last 3 days to predict the change in the 4th day."
   ]
  },
  {
   "cell_type": "code",
   "execution_count": 9,
   "id": "0130537e",
   "metadata": {},
   "outputs": [],
   "source": [
    "# adding the percentage change\n",
    "msft_close.insert(column = \"pct_change\", value = msft_close.Close.pct_change(), loc = msft_close.shape[1])\n",
    "# adding the log change \n",
    "msft_close.insert(column = \"pct_change_log\", value = np.log(1 + msft_close['pct_change']), loc = msft_close.shape[1])"
   ]
  },
  {
   "cell_type": "code",
   "execution_count": 10,
   "id": "04f29b7c",
   "metadata": {},
   "outputs": [],
   "source": [
    "# dropping the na values \n",
    "msft_close = msft_close.dropna()"
   ]
  },
  {
   "cell_type": "code",
   "execution_count": 11,
   "id": "c92d5e3b",
   "metadata": {},
   "outputs": [],
   "source": [
    "# extracting only the Close and pct_log values in X Array\n",
    "X = msft_close[['Close', 'pct_change_log']].values"
   ]
  },
  {
   "cell_type": "code",
   "execution_count": 12,
   "id": "1411b453",
   "metadata": {},
   "outputs": [
    {
     "data": {
      "text/plain": [
       "array([[6.37290039e+01, 6.46565961e-03],\n",
       "       [6.39063683e+01, 2.77923683e-03],\n",
       "       [6.47931747e+01, 1.37812537e-02]])"
      ]
     },
     "execution_count": 12,
     "metadata": {},
     "output_type": "execute_result"
    }
   ],
   "source": [
    "# how does X look like\n",
    "X[:3]"
   ]
  },
  {
   "cell_type": "code",
   "execution_count": 13,
   "id": "f6a261a3",
   "metadata": {},
   "outputs": [],
   "source": [
    "# defining the scaler \n",
    "scaler = MinMaxScaler(feature_range=(0, 1)).fit(X)"
   ]
  },
  {
   "cell_type": "code",
   "execution_count": 14,
   "id": "a71113ef",
   "metadata": {},
   "outputs": [],
   "source": [
    "# Transformin the X array\n",
    "X_scaled = scaler.transform(X)"
   ]
  },
  {
   "cell_type": "code",
   "execution_count": 15,
   "id": "9f6be0f4",
   "metadata": {},
   "outputs": [],
   "source": [
    "# extracting the log stock ticker prices in y\n",
    "y = [x[0] for x in X_scaled]"
   ]
  },
  {
   "cell_type": "code",
   "execution_count": 16,
   "id": "e8ae1d58",
   "metadata": {},
   "outputs": [],
   "source": [
    "# getting the number of train items \n",
    "split = int(len(X_scaled) *0.8)\n"
   ]
  },
  {
   "cell_type": "code",
   "execution_count": 17,
   "id": "a8fdd4b2",
   "metadata": {},
   "outputs": [],
   "source": [
    "# getting the actuall train numbers used in training \n",
    "X_train = X_scaled[:split]\n"
   ]
  },
  {
   "cell_type": "code",
   "execution_count": 18,
   "id": "8cd2b57e",
   "metadata": {},
   "outputs": [],
   "source": [
    "# getting the remaining items as test items used in training\n",
    "X_test = X_scaled[split : len(X_scaled)]\n"
   ]
  },
  {
   "cell_type": "code",
   "execution_count": 19,
   "id": "8977abda",
   "metadata": {},
   "outputs": [],
   "source": [
    "# same thing for the items used in testing \n",
    "y_train = y[:split]\n",
    "y_test = y[split : len(y)]"
   ]
  },
  {
   "cell_type": "code",
   "execution_count": 20,
   "id": "8c1e8cca",
   "metadata": {},
   "outputs": [
    {
     "data": {
      "text/plain": [
       "array([[0.67783925, 0.44722219],\n",
       "       [0.67055225, 0.51770461],\n",
       "       [0.66937923, 0.54088651]])"
      ]
     },
     "execution_count": 20,
     "metadata": {},
     "output_type": "execute_result"
    }
   ],
   "source": [
    "X_test[:3]"
   ]
  },
  {
   "cell_type": "code",
   "execution_count": 21,
   "id": "e94bcc86",
   "metadata": {},
   "outputs": [
    {
     "data": {
      "text/plain": [
       "0.6682417484757343"
      ]
     },
     "execution_count": 21,
     "metadata": {},
     "output_type": "execute_result"
    }
   ],
   "source": [
    "y_test[3]"
   ]
  },
  {
   "cell_type": "code",
   "execution_count": null,
   "id": "48676a6b",
   "metadata": {},
   "outputs": [],
   "source": []
  },
  {
   "cell_type": "code",
   "execution_count": 22,
   "id": "6720f10c",
   "metadata": {},
   "outputs": [],
   "source": [
    "# sanity checks\n",
    "assert len(X_train) == len(y_train)\n",
    "assert len(X_test) == len(y_test)"
   ]
  },
  {
   "cell_type": "code",
   "execution_count": null,
   "id": "ed55f668",
   "metadata": {},
   "outputs": [],
   "source": []
  },
  {
   "cell_type": "code",
   "execution_count": 23,
   "id": "546b9999",
   "metadata": {},
   "outputs": [],
   "source": [
    "# building the features matrixes\n",
    "# last three days to predict the the fourth setting\n",
    "n = 3\n",
    "Xtrain, ytrain, Xtest, ytest = [], [], [], []\n",
    "\n",
    "for i in range(n, len(X_train)-1):\n",
    "    # starting at n (present case n = 3)\n",
    "    # appending the last n items, meaning transformed share price and log change to Xtrain \n",
    "    Xtrain.append(X_train[i - n : i, : X_train.shape[1]])\n",
    "    # appending the nth+1 transformed share price to ytrain\n",
    "    ytrain.append(y_train[i+1])\n",
    "\n",
    "for i in range(n, len(X_test)-1):\n",
    "    # same as above for the test part \n",
    "    Xtest.append(X_test[i - n : i, : X_test.shape[1]])\n",
    "    ytest.append(y_test[i+1])"
   ]
  },
  {
   "cell_type": "code",
   "execution_count": 24,
   "id": "e6e8a186",
   "metadata": {},
   "outputs": [],
   "source": [
    "# transforming to np array\n",
    "Xtrain, ytrain = (np.array(Xtrain), np.array(ytrain))\n",
    "# making sure the shape is the one we need\n",
    "Xtrain = np.reshape(Xtrain, (Xtrain.shape[0], Xtrain.shape[1], Xtrain.shape[2]))\n",
    "# same as above for the test part \n",
    "Xtest, ytest = (np.array(Xtest), np.array(ytest))\n",
    "Xtest = np.reshape(Xtest, (Xtest.shape[0], Xtest.shape[1], Xtest.shape[2]))"
   ]
  },
  {
   "cell_type": "code",
   "execution_count": 25,
   "id": "1fd2be98",
   "metadata": {},
   "outputs": [],
   "source": [
    "# transforming everything to float32\n",
    "Xtrain = Xtrain.astype(np.float32)\n",
    "ytrain = ytrain.astype(np.float32)\n",
    "Xtrain = Xtrain.astype(np.float32)\n",
    "Xtest = Xtest.astype(np.float32)"
   ]
  },
  {
   "cell_type": "markdown",
   "id": "7c98a998",
   "metadata": {},
   "source": [
    "#### <a id = \"met_imp\">Implementation </a> \n",
    "In this part we define the model, we predict based on the defined model and we evaluate results. As seen in the parameters, given the nature of the data, I use only one layer. "
   ]
  },
  {
   "cell_type": "code",
   "execution_count": null,
   "id": "a197bd31",
   "metadata": {},
   "outputs": [],
   "source": []
  },
  {
   "cell_type": "code",
   "execution_count": 26,
   "id": "4323560b",
   "metadata": {},
   "outputs": [
    {
     "name": "stderr",
     "output_type": "stream",
     "text": [
      "2022-04-26 19:48:36.424035: W tensorflow/core/platform/profile_utils/cpu_utils.cc:128] Failed to get CPU frequency: 0 Hz\n"
     ]
    },
    {
     "data": {
      "text/plain": [
       "<keras.callbacks.History at 0x1606539d0>"
      ]
     },
     "execution_count": 26,
     "metadata": {},
     "output_type": "execute_result"
    }
   ],
   "source": [
    "# defining the model \n",
    "model = Sequential()\n",
    "model.add(LSTM(4, input_shape = (Xtrain.shape[1], Xtrain.shape[2])))\n",
    "model.add(Dense(1))\n",
    "model.compile(loss=\"mean_squared_error\", optimizer = \"adam\")\n",
    "model.fit(\n",
    "    Xtrain, ytrain, epochs = 50, validation_data=(Xtest, ytest), batch_size = 16, verbose = 0\n",
    ")"
   ]
  },
  {
   "cell_type": "code",
   "execution_count": 27,
   "id": "0bc72a62",
   "metadata": {},
   "outputs": [],
   "source": [
    "# predicting on test data \n",
    "testPredict = model.predict(Xtest)"
   ]
  },
  {
   "cell_type": "code",
   "execution_count": 28,
   "id": "0b2f1627",
   "metadata": {},
   "outputs": [],
   "source": [
    "# adding a \"column\" of zeroes to test predictions in order to be able to feed back into transformer \n",
    "testPredict = np.c_[testPredict, np.zeros(testPredict.shape)]"
   ]
  },
  {
   "cell_type": "code",
   "execution_count": 29,
   "id": "b6143de2",
   "metadata": {},
   "outputs": [],
   "source": [
    "# transforming back to actual share prices \n",
    "testPredict = scaler.inverse_transform(testPredict)\n",
    "# extracting only the share prices \n",
    "testPredict = [x[0] for x in testPredict]"
   ]
  },
  {
   "cell_type": "code",
   "execution_count": 30,
   "id": "6f92412f",
   "metadata": {},
   "outputs": [],
   "source": [
    "# len of testPredict \n",
    "lenTestPredict = len(testPredict)"
   ]
  },
  {
   "cell_type": "code",
   "execution_count": 31,
   "id": "22abaa38",
   "metadata": {},
   "outputs": [],
   "source": [
    "# extracting the exact amount of the predicted values from the initial data set minus one, \n",
    "# as we are predicting the next day's value\n",
    "train_msft_close = msft_close[-(lenTestPredict-1):]\n",
    "train_msft_close = train_msft_close.Close.values\n",
    "# saving the last value \n",
    "lastVal = testPredict[-1]\n",
    "# dropping the last value \n",
    "testPredict = testPredict[:-1]"
   ]
  },
  {
   "cell_type": "code",
   "execution_count": 32,
   "id": "ee46b96b",
   "metadata": {},
   "outputs": [
    {
     "data": {
      "text/plain": [
       "True"
      ]
     },
     "execution_count": 32,
     "metadata": {},
     "output_type": "execute_result"
    }
   ],
   "source": [
    "len(train_msft_close) == len(testPredict)"
   ]
  },
  {
   "cell_type": "code",
   "execution_count": 33,
   "id": "91b08eb7",
   "metadata": {},
   "outputs": [
    {
     "name": "stdout",
     "output_type": "stream",
     "text": [
      "Test Score = 5.64%\n"
     ]
    },
    {
     "data": {
      "text/plain": [
       "(268.9728477273977, 273.114501953125)"
      ]
     },
     "execution_count": 33,
     "metadata": {},
     "output_type": "execute_result"
    }
   ],
   "source": [
    "# checking the accuracy \n",
    "# mean squared error\n",
    "testScore = mean_squared_error(testPredict, train_msft_close, squared = False)\n",
    "# mean squared error as a percentage of the last value \n",
    "pct_score = testScore/lastVal *100\n",
    "print(\"Test Score = %.2f%%\" % pct_score)\n",
    "lastVal, train_msft_close[-1]"
   ]
  },
  {
   "cell_type": "markdown",
   "id": "bd4c8f56",
   "metadata": {},
   "source": [
    "The difference in my test is about 10 units this number however should differ when the test is run multiple times <br />\n",
    "Before moving on we will focus on gathering together the above code in several functions, these will \n",
    "help with the refinement of parameters "
   ]
  },
  {
   "cell_type": "code",
   "execution_count": 34,
   "id": "b3248931",
   "metadata": {},
   "outputs": [],
   "source": [
    "\n",
    "def val_creation(ticker_close):\n",
    "    \"\"\"\n",
    "        Converts the series obtained by yfinance in a series that can be used by the model\n",
    "        \n",
    "        Parameters\n",
    "        ----------\n",
    "        ticker_close : Data Frame\n",
    "            Data Frame obtained from yfinance\n",
    "        \n",
    "\n",
    "        Returns\n",
    "        -------\n",
    "        numpy.ndarray\n",
    "            an array of needed values for the model \n",
    "\n",
    "    \"\"\"\n",
    "    # adding the percentage change\n",
    "    ticker_close.insert(column = \"pct_change\", value = ticker_close.Close.pct_change(), loc = ticker_close.shape[1])\n",
    "    # adding the log change \n",
    "    ticker_close.insert(column = \"pct_change_log\", value = np.log(1 + ticker_close['pct_change']), loc = ticker_close.shape[1])\n",
    "    # removing NAs\n",
    "    ticker_close = ticker_close.dropna()\n",
    "    return ticker_close[['Close', 'pct_change_log']].values\n",
    "\n"
   ]
  },
  {
   "cell_type": "code",
   "execution_count": 35,
   "id": "3ed8b56c",
   "metadata": {},
   "outputs": [],
   "source": [
    "def preprocessing_data(X, days_back):\n",
    "    \n",
    "    \"\"\"\n",
    "        Preprocesses the data by splitting in the required arrays needed by the model\n",
    "        \n",
    "        Parameters\n",
    "        ----------\n",
    "        X : numpy.ndarray\n",
    "            array with the following form preprocessed with the val_creation function\n",
    "            \n",
    "            array([[ 6.10405693e+01, -1.37555641e-03],\n",
    "                   [ 6.07138596e+01, -5.36671289e-03],\n",
    "                   [ 6.11432533e+01,  7.04752534e-03],\n",
    "                   [ 6.19833908e+01,  1.36469328e-02],\n",
    "                   [ 6.30382195e+01,  1.68747415e-02]])\n",
    "                   \n",
    "        days_back : number of days for the model to look back \n",
    "\n",
    "        Returns\n",
    "        -------\n",
    "        Xtrain, ytrain, Xtrain, Xtest, ytest : numpy.ndarray            \n",
    "                arrays needed for the model  \n",
    "                \n",
    "        scaler : sklearn.preprocessing._data.MinMaxScaler\n",
    "            the scaler used in transforming data\n",
    "            \n",
    "\n",
    "    \"\"\"\n",
    "    # initializing scaler\n",
    "    scaler = MinMaxScaler(feature_range=(0, 1)).fit(X)\n",
    "    # fitting the scaler \n",
    "    X_scaled = scaler.transform(X)\n",
    "    # extracting the log stock ticker prices in y\n",
    "    y = [x[0] for x in X_scaled]\n",
    "    \n",
    "    # getting the number of train items \n",
    "    split = int(len(X_scaled) *0.8)\n",
    "    \n",
    "    # getting the actuall train numbers used in training \n",
    "    X_train = X_scaled[:split]\n",
    "    \n",
    "    # getting the remaining items as test items used in training\n",
    "    X_test = X_scaled[split : len(X_scaled)]\n",
    "    \n",
    "    # same thing for the items used in testing \n",
    "    y_train = y[:split]\n",
    "    y_test = y[split : len(y)]\n",
    "    \n",
    "    \n",
    "    n = days_back\n",
    "    Xtrain, ytrain, Xtest, ytest = [], [], [], []\n",
    "    # building the features matrixes \n",
    "    for i in range(n, len(X_train)-1):\n",
    "        # starting at n (present case n = 3)\n",
    "        # appending the last n items, meaning transformed share price and log change to Xtrain \n",
    "        Xtrain.append(X_train[i - n : i, : X_train.shape[1]])\n",
    "        # appending the nth+1 transformed share price to ytrain\n",
    "        ytrain.append(y_train[i+1])\n",
    "\n",
    "    for i in range(n, len(X_test)-1):\n",
    "        # same as above for the test part \n",
    "        Xtest.append(X_test[i - n : i, : X_test.shape[1]])\n",
    "        ytest.append(y_test[i+1])\n",
    "                            \n",
    "                            \n",
    "                            \n",
    "    # transforming to np array\n",
    "    Xtrain, ytrain = (np.array(Xtrain), np.array(ytrain))\n",
    "    # making sure the shape is the one we need\n",
    "    Xtrain = np.reshape(Xtrain, (Xtrain.shape[0], Xtrain.shape[1], Xtrain.shape[2]))\n",
    "    # same as above for the test part \n",
    "    Xtest, ytest = (np.array(Xtest), np.array(ytest))\n",
    "    Xtest = np.reshape(Xtest, (Xtest.shape[0], Xtest.shape[1], Xtest.shape[2]))\n",
    "                            \n",
    "    # making sure the datatypes are the same \n",
    "    Xtrain = Xtrain.astype(np.float32)\n",
    "    ytrain = ytrain.astype(np.float32)\n",
    "    Xtrain = Xtrain.astype(np.float32)\n",
    "    Xtest = Xtest.astype(np.float32)\n",
    "    \n",
    "    \n",
    "    return Xtrain, ytrain, Xtrain, Xtest, ytest, scaler\n",
    "\n",
    "\n"
   ]
  },
  {
   "cell_type": "code",
   "execution_count": 36,
   "id": "4844d5a6",
   "metadata": {},
   "outputs": [],
   "source": [
    "def predict_next(days_back, epochs, ticker_close, batch_size):\n",
    "    \n",
    "    \"\"\"\n",
    "        Train the model based on the input parameters on days back the number of epochs\n",
    "        \n",
    "        Parameters\n",
    "        ----------\n",
    "        days_back : int\n",
    "            number of back days, the number of days where the model looks \n",
    "            back in order to predict next value\n",
    "            \n",
    "        epochs : int\n",
    "            number of epochs for the model \n",
    "            \n",
    "        ticker_close : numpy.ndarray\n",
    "            preprocesed array to be used by the model \n",
    "\n",
    "        Returns\n",
    "        -------\n",
    "        lastVal : numpy.float64\n",
    "            the last predicted value \n",
    "        model : keras.engine.sequential.Sequential\n",
    "            the fitted model \n",
    "            \n",
    "        Xtest : numpy.ndarray\n",
    "            test data of the model \n",
    "            \n",
    "        testScore : numpy.float64\n",
    "            the final score of the model comparing\n",
    "        \n",
    "            \n",
    "\n",
    "    \"\"\"\n",
    "    \n",
    "    X = val_creation(ticker_close)\n",
    "    \n",
    "    Xtrain, ytrain, Xtrain, Xtest, ytest, scaler = preprocessing_data(X, days_back)\n",
    "    \n",
    "    # defining the model \n",
    "    model = Sequential()\n",
    "    model.add(LSTM(4, input_shape = (Xtrain.shape[1], Xtrain.shape[2])))\n",
    "    model.add(Dense(1))\n",
    "    model.compile(loss=\"mean_squared_error\", optimizer = \"adam\")\n",
    "    model.fit(\n",
    "        Xtrain, ytrain, epochs = 50, validation_data=(Xtest, ytest), batch_size = batch_size, verbose = 0\n",
    "    )\n",
    "    \n",
    "\n",
    "    testScore, last_val = predict_model(model, Xtest, scaler)\n",
    "\n",
    "    \n",
    "    return testScore, last_val"
   ]
  },
  {
   "cell_type": "code",
   "execution_count": 37,
   "id": "3d6700f2",
   "metadata": {},
   "outputs": [],
   "source": [
    "def predict_model(model, Xtest, scaler):\n",
    "    \n",
    "    \"\"\"\n",
    "        Preprocesses the data by splitting in the required arrays needed by the model\n",
    "        \n",
    "        Parameters\n",
    "        ----------\n",
    "        model : keras.engine.sequential.Sequential\n",
    "            the fitted model \n",
    "            \n",
    "                   \n",
    "        Xtest : numpy.ndarray\n",
    "            The test data \n",
    "            \n",
    "        scaler : sklearn.preprocessing._data.MinMaxScaler\n",
    "            the scaler used in transforming data\n",
    "            \n",
    "        \n",
    "        \n",
    "        \n",
    "            \n",
    "\n",
    "        Returns\n",
    "        -------\n",
    "        lastVal : numpy.float64\n",
    "            the last predicted value \n",
    "            \n",
    "        score_pct : numpy.float64\n",
    "            the score in percentages \n",
    "            \n",
    "\n",
    "    \"\"\"\n",
    "    # predicting on test data \n",
    "    testPredict = model.predict(Xtest)\n",
    "    \n",
    "    # adding a \"column\" of zeroes to both predictions in order to be able to feed back into transformer \n",
    "    testPredict = np.c_[testPredict, np.zeros(testPredict.shape)]\n",
    "\n",
    "    # transforming back to actual share prices \n",
    "    testPredict = scaler.inverse_transform(testPredict)\n",
    "    # extracting only the share prices \n",
    "    testPredict = [x[0] for x in testPredict]\n",
    "   \n",
    "    train_ticker_close = ticker_close[-(len(testPredict) - 1 ):]\n",
    "    train_ticker_close = train_ticker_close.Close.values\n",
    "    lastVal = testPredict[-1]\n",
    "    testPredict.pop()\n",
    "    \n",
    "    testScore = mean_squared_error(testPredict, train_ticker_close, squared = False)\n",
    "    \n",
    "    score_pct = testScore/lastVal * 100\n",
    "#     print(\"Test Score = %.2f%%\" % score_pct)\n",
    "    \n",
    "    return score_pct, lastVal\n",
    "\n",
    "\n"
   ]
  },
  {
   "cell_type": "markdown",
   "id": "c2d9aad3",
   "metadata": {},
   "source": [
    "#### <a id = \"met_ref\">Refinement </a> \n",
    "in this part, we will build a function that will take the days back, period, and number of epochs as parameters in order to be able to easily change them and come up with a model that will minimise the Test Score. In other words, I will try to optmise for the minimum score."
   ]
  },
  {
   "cell_type": "code",
   "execution_count": 38,
   "id": "dff6ec60",
   "metadata": {},
   "outputs": [],
   "source": [
    "# defining  data\n",
    "ticker = \"MSFT\"\n",
    "period = \"5y\" # param for the optimizer\n",
    "days_back = 13 # param for the optimizer\n",
    "epochs = 50 # param for the optimizer \n",
    "batch_size = 16\n",
    "# getting data\n",
    "ticker_close = yf.Ticker(ticker).history(period=period)[['Close']]\n",
    "\n",
    "testScore, last_val = predict_next(days_back, epochs, ticker_close, batch_size)"
   ]
  },
  {
   "cell_type": "code",
   "execution_count": 39,
   "id": "7e4cf59c",
   "metadata": {},
   "outputs": [],
   "source": [
    "# defining the function for the returning the lowest test score and the parameters\n",
    "def param_optimizer(ticker):\n",
    "    params = []\n",
    "    ticker = ticker\n",
    "    for period in (\"1y\", \"2y\", \"5y\"):\n",
    "        for days_back in (3, 13, 23):\n",
    "            for epochs in (50, 100):\n",
    "                for batch_size in (16, 32, 64):\n",
    "                \n",
    "                    # getting data\n",
    "                    ticker_close = yf.Ticker(ticker).history(period=period)[['Close']]\n",
    "                    # getting the testscore\n",
    "                    testScore, last_val = predict_next(days_back, epochs, ticker_close, batch_size)\n",
    "                    params.append([period, days_back, epochs, testScore, batch_size])\n",
    "                \n",
    "    # converting the list to dataframe            \n",
    "    df_list = pd.DataFrame(params, columns=[\"period\", \"days_back\", \"epochs\", \"testScore\", \"batch_size\"])\n",
    "    \n",
    "    # getting the min score and putting the parameters into a dictionary\n",
    "    dict_param = {}\n",
    "\n",
    "    dict_param['period'] = df_list[df_list.testScore == df_list.testScore.min()]['period'].values[0]\n",
    "    dict_param['days_back'] = df_list[df_list.testScore == df_list.testScore.min()]['days_back'].values[0]\n",
    "    dict_param['epochs'] = df_list[df_list.testScore == df_list.testScore.min()]['epochs'].values[0]\n",
    "    dict_param['batch_size'] = df_list[df_list.testScore == df_list.testScore.min()]['batch_size'].values[0]\n",
    "    dict_param['testScore'] = df_list[df_list.testScore == df_list.testScore.min()]['testScore'].values[0]\n",
    "    \n",
    "    return dict_param"
   ]
  },
  {
   "cell_type": "code",
   "execution_count": 40,
   "id": "7672e91c",
   "metadata": {},
   "outputs": [
    {
     "name": "stdout",
     "output_type": "stream",
     "text": [
      "WARNING:tensorflow:5 out of the last 15 calls to <function Model.make_predict_function.<locals>.predict_function at 0x161955310> triggered tf.function retracing. Tracing is expensive and the excessive number of tracings could be due to (1) creating @tf.function repeatedly in a loop, (2) passing tensors with different shapes, (3) passing Python objects instead of tensors. For (1), please define your @tf.function outside of the loop. For (2), @tf.function has experimental_relax_shapes=True option that relaxes argument shapes that can avoid unnecessary retracing. For (3), please refer to https://www.tensorflow.org/guide/function#controlling_retracing and https://www.tensorflow.org/api_docs/python/tf/function for  more details.\n",
      "WARNING:tensorflow:6 out of the last 17 calls to <function Model.make_predict_function.<locals>.predict_function at 0x161db6ca0> triggered tf.function retracing. Tracing is expensive and the excessive number of tracings could be due to (1) creating @tf.function repeatedly in a loop, (2) passing tensors with different shapes, (3) passing Python objects instead of tensors. For (1), please define your @tf.function outside of the loop. For (2), @tf.function has experimental_relax_shapes=True option that relaxes argument shapes that can avoid unnecessary retracing. For (3), please refer to https://www.tensorflow.org/guide/function#controlling_retracing and https://www.tensorflow.org/api_docs/python/tf/function for  more details.\n"
     ]
    }
   ],
   "source": [
    "params = param_optimizer(\"MSFT\")"
   ]
  },
  {
   "cell_type": "code",
   "execution_count": 41,
   "id": "ce3db474",
   "metadata": {},
   "outputs": [
    {
     "data": {
      "text/plain": [
       "{'period': '1y',\n",
       " 'days_back': 23,\n",
       " 'epochs': 100,\n",
       " 'batch_size': 32,\n",
       " 'testScore': 3.369340587257783}"
      ]
     },
     "execution_count": 41,
     "metadata": {},
     "output_type": "execute_result"
    }
   ],
   "source": [
    "params"
   ]
  },
  {
   "cell_type": "code",
   "execution_count": null,
   "id": "3bcbfd01",
   "metadata": {},
   "outputs": [],
   "source": []
  },
  {
   "cell_type": "markdown",
   "id": "9a9491a7",
   "metadata": {},
   "source": [
    "### <a id = \"results\">Results</a> \n",
    "\n",
    "In this section I am discussing the results obtained"
   ]
  },
  {
   "cell_type": "markdown",
   "id": "7accda27",
   "metadata": {},
   "source": [
    "#### <a id = \"res_eval\">Model Evaluation and Validation </a> \n",
    "Given that there is a single metric of evaluation there is not much to discuss. The parameters obtained may vary willdy between stocks. For MSFT, a loock back period of 5y, a loock on last 3 days and 100 epochs produce the best score. For other stocks there might be different results, for instance the PFE, which produces a score that is not usable at all here I would need to change the paramaters. However, given the computational limitations I am not able to do that. The parameters chosen for the task are just a framework that can be built upon. "
   ]
  },
  {
   "cell_type": "code",
   "execution_count": 42,
   "id": "c8e4a6bf",
   "metadata": {},
   "outputs": [
    {
     "data": {
      "text/plain": [
       "{'period': '1y',\n",
       " 'days_back': 13,\n",
       " 'epochs': 100,\n",
       " 'batch_size': 32,\n",
       " 'testScore': 458.069652683509}"
      ]
     },
     "execution_count": 42,
     "metadata": {},
     "output_type": "execute_result"
    }
   ],
   "source": [
    "params = param_optimizer(\"PFE\")\n",
    "params"
   ]
  },
  {
   "cell_type": "markdown",
   "id": "af72a5fa",
   "metadata": {},
   "source": [
    "#### <a id = \"res_just\">Justification</a> \n",
    "The final results that I have are not a model with specific parameters, rather a framework that can extended. I mean here, not necesarry the model that I am using but the number of days and number of epochs that are used.\n",
    "\n",
    "The result is the framework that can be tinkered with. "
   ]
  },
  {
   "cell_type": "markdown",
   "id": "b68339f8",
   "metadata": {},
   "source": [
    "### <a id = \"conclusion\">Conclusion</a> \n",
    "<b> Reflection</b>\n",
    "\n",
    "In this project I imported, manipulated and modeled the data in order to be able to predict the next value of the stock price for a given listed company. The hard aspects were to choose the apropriate data representation that is needed for the model. \n",
    "\n",
    "<b> Improvement </b>\n",
    "\n",
    "In improving the results, I would need to extend the parameteres that are used in the search of the minimum test score. Computational power must be added in order to do this. "
   ]
  },
  {
   "cell_type": "code",
   "execution_count": null,
   "id": "d552e344",
   "metadata": {},
   "outputs": [],
   "source": []
  }
 ],
 "metadata": {
  "kernelspec": {
   "display_name": "Python 3 (ipykernel)",
   "language": "python",
   "name": "python3"
  },
  "language_info": {
   "codemirror_mode": {
    "name": "ipython",
    "version": 3
   },
   "file_extension": ".py",
   "mimetype": "text/x-python",
   "name": "python",
   "nbconvert_exporter": "python",
   "pygments_lexer": "ipython3",
   "version": "3.8.11"
  }
 },
 "nbformat": 4,
 "nbformat_minor": 5
}
